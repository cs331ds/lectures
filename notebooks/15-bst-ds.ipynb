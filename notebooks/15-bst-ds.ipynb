{
 "cells": [
  {
   "cell_type": "markdown",
   "metadata": {
    "state": "normal"
   },
   "source": [
    "# The BSTree data structure\n",
    "\n",
    "## Agenda\n",
    "\n",
    "- API\n",
    "- Implementation\n",
    "    - Search\n",
    "    - Insertion\n",
    "    - Removal\n",
    "    - Iteration / Traversal\n",
    "- Runtime complexity"
   ]
  },
  {
   "cell_type": "markdown",
   "metadata": {
    "state": "normal"
   },
   "source": [
    "## API"
   ]
  },
  {
   "cell_type": "code",
   "execution_count": 1,
   "metadata": {
    "state": "normal"
   },
   "outputs": [],
   "source": [
    "class BSTree:\n",
    "    class Node:\n",
    "        def __init__(self, val, left=None, right=None):\n",
    "            self.val = val\n",
    "            self.left = left\n",
    "            self.right = right\n",
    "            \n",
    "    def __init__(self):\n",
    "        self.size = 0\n",
    "        self.root = None\n",
    "    \n",
    "    def __contains__(self, val):\n",
    "        \"\"\"Returns `True` if val is in this tree and `False` otherwise.\"\"\"\n",
    "        pass\n",
    "    \n",
    "    def insert(self, val):\n",
    "        \"\"\"inserts `val` to this tree while maintaining BSTree properties.\"\"\"\n",
    "        assert val not in self\n",
    "        pass    \n",
    "\n",
    "    def __delitem__(self, val):\n",
    "        \"\"\"Deletes `val` from this tree while maintaining BSTree properties.\"\"\"\n",
    "        assert val in self\n",
    "        pass\n",
    "    \n",
    "    def __iter__(self):\n",
    "        \"\"\"Returns an iterator over all the values in the tree, in ascending order.\"\"\"\n",
    "        pass\n",
    "\n",
    "    def __len__(self):\n",
    "        return self.size\n",
    "    \n",
    "    def height(self):\n",
    "        \"\"\"Returns the height of the root of the tree.\"\"\"\n",
    "        def height_rec(t):\n",
    "            if not t:\n",
    "                return 0\n",
    "            else:\n",
    "                return 1 + max(height_rec(t.left), height_rec(t.right))\n",
    "        return height_rec(self.root)\n",
    "\n",
    "    def pprint(self, width=64):\n",
    "        \"\"\"Attempts to pretty-print this tree's contents.\"\"\"\n",
    "        height = self.height()\n",
    "        nodes  = [(self.root, 0)]\n",
    "        prev_level = 0\n",
    "        repr_str = ''\n",
    "        while nodes:\n",
    "            n,level = nodes.pop(0)\n",
    "            if prev_level != level:\n",
    "                prev_level = level\n",
    "                repr_str += '\\n'\n",
    "            if not n:\n",
    "                if level < height-1:\n",
    "                    nodes.extend([(None, level+1), (None, level+1)])\n",
    "                repr_str += '{val:^{width}}'.format(val='-', width=width//2**level)\n",
    "            elif n:\n",
    "                if n.left or level < height-1:\n",
    "                    nodes.append((n.left, level+1))\n",
    "                if n.right or level < height-1:\n",
    "                    nodes.append((n.right, level+1))\n",
    "                repr_str += '{val:^{width}}'.format(val=n.val, width=width//2**level)\n",
    "        print(repr_str)"
   ]
  },
  {
   "cell_type": "code",
   "execution_count": 2,
   "metadata": {
    "state": "normal"
   },
   "outputs": [],
   "source": [
    "t = BSTree()\n",
    "t.root = BSTree.Node(5,\n",
    "                    left=BSTree.Node(2),\n",
    "                    right=BSTree.Node(10))\n",
    "t.size = 3"
   ]
  },
  {
   "cell_type": "code",
   "execution_count": 3,
   "metadata": {
    "state": "normal"
   },
   "outputs": [
    {
     "data": {
      "text/plain": [
       "2"
      ]
     },
     "execution_count": 3,
     "metadata": {},
     "output_type": "execute_result"
    }
   ],
   "source": [
    "t.height()"
   ]
  },
  {
   "cell_type": "code",
   "execution_count": 4,
   "metadata": {
    "state": "normal"
   },
   "outputs": [
    {
     "name": "stdout",
     "output_type": "stream",
     "text": [
      "                               5                                \n",
      "               2                               10               \n"
     ]
    }
   ],
   "source": [
    "t.pprint()"
   ]
  },
  {
   "cell_type": "markdown",
   "metadata": {
    "state": "normal"
   },
   "source": [
    "## Implementation"
   ]
  },
  {
   "cell_type": "markdown",
   "metadata": {
    "state": "normal"
   },
   "source": [
    "### Search"
   ]
  },
  {
   "cell_type": "code",
   "execution_count": 5,
   "metadata": {
    "state": "normal"
   },
   "outputs": [],
   "source": [
    "class BSTree(BSTree):\n",
    "    def __contains__(self, val):\n",
    "        def contains_rec(n): # recursive helper function (can use any local vars in scope)\n",
    "            if n is None:\n",
    "                return False\n",
    "            elif val == n.val:\n",
    "                return True\n",
    "            elif val < n.val:\n",
    "                return contains_rec(n.left)\n",
    "            else:\n",
    "                return contains_rec(n.right)\n",
    "        \n",
    "        return contains_rec(self.root)"
   ]
  },
  {
   "cell_type": "code",
   "execution_count": 6,
   "metadata": {
    "state": "normal"
   },
   "outputs": [],
   "source": [
    "t = BSTree()\n",
    "t.root = BSTree.Node(5,\n",
    "                    left=BSTree.Node(2),\n",
    "                    right=BSTree.Node(10))\n",
    "t.size = 3"
   ]
  },
  {
   "cell_type": "code",
   "execution_count": 7,
   "metadata": {
    "state": "normal"
   },
   "outputs": [
    {
     "data": {
      "text/plain": [
       "True"
      ]
     },
     "execution_count": 7,
     "metadata": {},
     "output_type": "execute_result"
    }
   ],
   "source": [
    "10 in t"
   ]
  },
  {
   "cell_type": "markdown",
   "metadata": {
    "state": "normal"
   },
   "source": [
    "### Insertion"
   ]
  },
  {
   "cell_type": "code",
   "execution_count": 8,
   "metadata": {
    "state": "normal"
   },
   "outputs": [],
   "source": [
    "class BSTree(BSTree):\n",
    "    def insert(self, val):\n",
    "        def insert_rec(n):\n",
    "            if n is None:\n",
    "                return BSTree.Node(val)\n",
    "            elif val < n.val:\n",
    "                n.left = insert_rec(n.left)\n",
    "                return n\n",
    "            elif val > n.val: \n",
    "                n.right = insert_rec(n.right)\n",
    "                return n\n",
    "        \n",
    "        assert val not in self # guarantees unique values\n",
    "        self.root = insert_rec(self.root)\n",
    "        self.size += 1"
   ]
  },
  {
   "cell_type": "code",
   "execution_count": 14,
   "metadata": {
    "state": "normal"
   },
   "outputs": [
    {
     "name": "stdout",
     "output_type": "stream",
     "text": [
      "                               3                                \n",
      "               0                               4                \n",
      "       -               1               -               -        \n",
      "   -       -       -       2       -       -       -       -    \n"
     ]
    }
   ],
   "source": [
    "import random\n",
    "t = BSTree()\n",
    "vals = list(range(5))\n",
    "random.shuffle(vals)\n",
    "for x in vals:\n",
    "    t.insert(x)\n",
    "t.pprint()"
   ]
  },
  {
   "cell_type": "markdown",
   "metadata": {
    "state": "normal"
   },
   "source": [
    "### Deletion"
   ]
  },
  {
   "cell_type": "code",
   "execution_count": 15,
   "metadata": {
    "state": "normal"
   },
   "outputs": [],
   "source": [
    "class BSTree(BSTree):\n",
    "    def __delitem__(self, val):\n",
    "        def delitem_rec(n):\n",
    "            if val < n.val:\n",
    "                n.left = delitem_rec(n.left)\n",
    "                return n\n",
    "            elif val > n.val:\n",
    "                n.right = delitem_rec(n.right)\n",
    "                return n\n",
    "            else:\n",
    "                if n.left is None and n.right is None:\n",
    "                    return None\n",
    "                elif n.left is None and n.right is not None:\n",
    "                    return n.right\n",
    "                elif n.right is None and n.left is not None:\n",
    "                    return n.left\n",
    "                else:\n",
    "                    pass\n",
    "            \n",
    "        assert val in self\n",
    "        self.root = delitem_rec(self.root)\n",
    "        self.size -= 1"
   ]
  },
  {
   "cell_type": "code",
   "execution_count": 16,
   "metadata": {
    "state": "normal"
   },
   "outputs": [
    {
     "name": "stdout",
     "output_type": "stream",
     "text": [
      "                               10                               \n",
      "               5                               15               \n",
      "       2               -               -               17       \n"
     ]
    }
   ],
   "source": [
    "t = BSTree()\n",
    "for x in [10, 5, 15, 2, 17]:\n",
    "    t.insert(x)\n",
    "t.pprint()"
   ]
  },
  {
   "cell_type": "code",
   "execution_count": 17,
   "metadata": {
    "state": "normal"
   },
   "outputs": [
    {
     "name": "stdout",
     "output_type": "stream",
     "text": [
      "                               10                               \n",
      "               5                               15               \n",
      "       -               -               -               17       \n"
     ]
    }
   ],
   "source": [
    "del t[2]\n",
    "t.pprint()"
   ]
  },
  {
   "cell_type": "code",
   "execution_count": 18,
   "metadata": {
    "state": "normal"
   },
   "outputs": [
    {
     "name": "stdout",
     "output_type": "stream",
     "text": [
      "                               10                               \n",
      "               5                               15               \n",
      "       2               -               -               17       \n"
     ]
    }
   ],
   "source": [
    "t = BSTree()\n",
    "for x in [10, 5, 15, 2, 17]:\n",
    "    t.insert(x)\n",
    "t.pprint()"
   ]
  },
  {
   "cell_type": "code",
   "execution_count": 19,
   "metadata": {
    "state": "normal"
   },
   "outputs": [
    {
     "name": "stdout",
     "output_type": "stream",
     "text": [
      "                               10                               \n",
      "               2                               15               \n",
      "       -               -               -               17       \n"
     ]
    }
   ],
   "source": [
    "del t[5]\n",
    "t.pprint()"
   ]
  },
  {
   "cell_type": "code",
   "execution_count": 21,
   "metadata": {
    "state": "normal"
   },
   "outputs": [
    {
     "name": "stdout",
     "output_type": "stream",
     "text": [
      "                               10                               \n",
      "               5                               15               \n",
      "       2               -               -               17       \n"
     ]
    }
   ],
   "source": [
    "t = BSTree()\n",
    "for x in [10, 5, 15, 2, 17]:\n",
    "    t.insert(x)\n",
    "t.pprint()"
   ]
  },
  {
   "cell_type": "code",
   "execution_count": 22,
   "metadata": {
    "state": "normal"
   },
   "outputs": [
    {
     "name": "stdout",
     "output_type": "stream",
     "text": [
      "                               10                               \n",
      "               5                               17               \n",
      "       2               -               -               -        \n"
     ]
    }
   ],
   "source": [
    "del t[15]\n",
    "t.pprint()"
   ]
  },
  {
   "cell_type": "code",
   "execution_count": 23,
   "metadata": {
    "state": "normal"
   },
   "outputs": [
    {
     "name": "stdout",
     "output_type": "stream",
     "text": [
      "                               10                               \n",
      "               5                               15               \n",
      "       2               -               -               17       \n"
     ]
    }
   ],
   "source": [
    "t = BSTree()\n",
    "for x in [10, 5, 15, 2, 17]:\n",
    "    t.insert(x)\n",
    "t.pprint()"
   ]
  },
  {
   "cell_type": "code",
   "execution_count": 24,
   "metadata": {
    "state": "normal"
   },
   "outputs": [
    {
     "name": "stdout",
     "output_type": "stream",
     "text": [
      "                               -                                \n"
     ]
    }
   ],
   "source": [
    "del t[10]\n",
    "t.pprint()"
   ]
  },
  {
   "cell_type": "code",
   "execution_count": 25,
   "metadata": {
    "state": "normal"
   },
   "outputs": [],
   "source": [
    "class BSTree(BSTree):\n",
    "    def __delitem__(self, val):\n",
    "        def delitem_rec(n):\n",
    "            if val < n.val:\n",
    "                n.left = delitem_rec(n.left)\n",
    "                return n\n",
    "            elif val > n.val:\n",
    "                n.right = delitem_rec(n.right)\n",
    "                return n\n",
    "            else:\n",
    "                if n.left is None and n.right is None:\n",
    "                    return None\n",
    "                elif n.left is None and n.right is not None:\n",
    "                    return n.right\n",
    "                elif n.right is None and n.left is not None:\n",
    "                    return n.left\n",
    "                else:\n",
    "                    # remove max value from left subtree to replace our root\n",
    "                    m = n.left\n",
    "                    if m.right is None:\n",
    "                        n.left = m.left\n",
    "                    else:\n",
    "                        pm = m\n",
    "                        m = m.right\n",
    "                        while m.right:\n",
    "                            pm = m\n",
    "                            m = m.right\n",
    "                        pm.right = m.left\n",
    "                    n.val = m.val\n",
    "                    return n\n",
    "            \n",
    "        assert val in self\n",
    "        self.root = delitem_rec(self.root)\n",
    "        self.size -= 1"
   ]
  },
  {
   "cell_type": "code",
   "execution_count": 26,
   "metadata": {
    "state": "normal"
   },
   "outputs": [
    {
     "name": "stdout",
     "output_type": "stream",
     "text": [
      "                               10                               \n",
      "               5                               15               \n",
      "       2               7               12              18       \n",
      "   1       -       -       9       -       -       -       -    \n",
      " -   -   -   -   -   -   8   -   -   -   -   -   -   -   -   -  \n"
     ]
    }
   ],
   "source": [
    "t = BSTree()\n",
    "for x in [10, 5, 2, 7, 9, 8, 1, 15, 12, 18]:\n",
    "    t.insert(x)\n",
    "t.pprint()"
   ]
  },
  {
   "cell_type": "code",
   "execution_count": 27,
   "metadata": {
    "state": "normal"
   },
   "outputs": [
    {
     "name": "stdout",
     "output_type": "stream",
     "text": [
      "                               10                               \n",
      "               5                               12               \n",
      "       2               7               -               18       \n",
      "   1       -       -       9       -       -       -       -    \n",
      " -   -   -   -   -   -   8   -   -   -   -   -   -   -   -   -  \n"
     ]
    }
   ],
   "source": [
    "del t[15]\n",
    "t.pprint()"
   ]
  },
  {
   "cell_type": "code",
   "execution_count": 28,
   "metadata": {
    "state": "normal"
   },
   "outputs": [
    {
     "name": "stdout",
     "output_type": "stream",
     "text": [
      "                               10                               \n",
      "               5                               15               \n",
      "       2               7               12              18       \n",
      "   1       -       -       9       -       -       -       -    \n",
      " -   -   -   -   -   -   8   -   -   -   -   -   -   -   -   -  \n"
     ]
    }
   ],
   "source": [
    "t = BSTree()\n",
    "for x in [10, 5, 2, 7, 9, 8, 1, 15, 12, 18]:\n",
    "    t.insert(x)\n",
    "t.pprint()"
   ]
  },
  {
   "cell_type": "code",
   "execution_count": 29,
   "metadata": {
    "state": "normal"
   },
   "outputs": [
    {
     "name": "stdout",
     "output_type": "stream",
     "text": [
      "                               10                               \n",
      "               2                               15               \n",
      "       1               7               12              18       \n",
      "   -       -       -       9       -       -       -       -    \n",
      " -   -   -   -   -   -   8   -   -   -   -   -   -   -   -   -  \n"
     ]
    }
   ],
   "source": [
    "del t[5]\n",
    "t.pprint()"
   ]
  },
  {
   "cell_type": "code",
   "execution_count": 30,
   "metadata": {
    "state": "normal"
   },
   "outputs": [
    {
     "name": "stdout",
     "output_type": "stream",
     "text": [
      "                               10                               \n",
      "               5                               15               \n",
      "       2               7               12              18       \n",
      "   1       -       -       9       -       -       -       -    \n",
      " -   -   -   -   -   -   8   -   -   -   -   -   -   -   -   -  \n"
     ]
    }
   ],
   "source": [
    "t = BSTree()\n",
    "for x in [10, 5, 2, 7, 9, 8, 1, 15, 12, 18]:\n",
    "    t.insert(x)\n",
    "t.pprint()"
   ]
  },
  {
   "cell_type": "code",
   "execution_count": 31,
   "metadata": {
    "state": "normal"
   },
   "outputs": [
    {
     "name": "stdout",
     "output_type": "stream",
     "text": [
      "                               9                                \n",
      "               5                               15               \n",
      "       2               7               12              18       \n",
      "   1       -       -       8       -       -       -       -    \n"
     ]
    }
   ],
   "source": [
    "del t[10]\n",
    "t.pprint()"
   ]
  },
  {
   "cell_type": "markdown",
   "metadata": {
    "state": "normal"
   },
   "source": [
    "### Iteration / Traversal"
   ]
  },
  {
   "cell_type": "code",
   "execution_count": 32,
   "metadata": {
    "state": "normal"
   },
   "outputs": [],
   "source": [
    "class BSTree(BSTree):\n",
    "    def __iter__(self):\n",
    "        def iter_rec(n):\n",
    "            if n:\n",
    "                yield from iter_rec(n.left)\n",
    "                yield n.val\n",
    "                yield from iter_rec(n.right)\n",
    "        return iter_rec(self.root)"
   ]
  },
  {
   "cell_type": "code",
   "execution_count": 33,
   "metadata": {
    "state": "normal"
   },
   "outputs": [
    {
     "name": "stdout",
     "output_type": "stream",
     "text": [
      "0\n",
      "1\n",
      "2\n",
      "3\n",
      "4\n",
      "5\n",
      "6\n",
      "7\n",
      "8\n",
      "9\n",
      "10\n",
      "11\n",
      "12\n",
      "13\n",
      "14\n",
      "15\n",
      "16\n",
      "17\n",
      "18\n",
      "19\n"
     ]
    }
   ],
   "source": [
    "import random\n",
    "t = BSTree()\n",
    "vals = list(range(20))\n",
    "random.shuffle(vals)\n",
    "for x in vals:\n",
    "    t.insert(x)\n",
    "for x in t:\n",
    "    print(x)"
   ]
  },
  {
   "cell_type": "markdown",
   "metadata": {
    "state": "normal"
   },
   "source": [
    "### Iteration by Level"
   ]
  },
  {
   "cell_type": "code",
   "execution_count": 34,
   "metadata": {
    "state": "normal"
   },
   "outputs": [],
   "source": [
    "class BSTree(BSTree):\n",
    "    def __iter__(self):\n",
    "        queue = [self.root]\n",
    "        while queue:\n",
    "            n = queue.pop()\n",
    "            yield n.val\n",
    "            if n.left:\n",
    "                queue.insert(0, n.left)\n",
    "            if n.right:\n",
    "                queue.insert(0, n.right)"
   ]
  },
  {
   "cell_type": "code",
   "execution_count": 36,
   "metadata": {
    "state": "normal"
   },
   "outputs": [
    {
     "name": "stdout",
     "output_type": "stream",
     "text": [
      "                               6                                \n",
      "               0                               8                \n",
      "       -               3               7               9        \n",
      "   -       -       1       4       -       -       -       -    \n",
      " -   -   -   -   -   2   -   5   -   -   -   -   -   -   -   -  \n"
     ]
    }
   ],
   "source": [
    "import random\n",
    "t = BSTree()\n",
    "vals = list(range(10))\n",
    "random.shuffle(vals)\n",
    "for x in vals:\n",
    "    t.insert(x)\n",
    "t.pprint()"
   ]
  },
  {
   "cell_type": "code",
   "execution_count": 37,
   "metadata": {
    "state": "normal"
   },
   "outputs": [
    {
     "name": "stdout",
     "output_type": "stream",
     "text": [
      "6\n",
      "0\n",
      "8\n",
      "3\n",
      "7\n",
      "9\n",
      "1\n",
      "4\n",
      "2\n",
      "5\n"
     ]
    }
   ],
   "source": [
    "for x in t:\n",
    "    print(x)"
   ]
  },
  {
   "cell_type": "markdown",
   "metadata": {
    "state": "normal"
   },
   "source": [
    "## Runtime Complexity"
   ]
  },
  {
   "cell_type": "markdown",
   "metadata": {
    "state": "normal"
   },
   "source": [
    "The runtime complexity of the search, insert, and delete methods of the binary search tree are dependent, ultimately, on the depth of their recursive implementation. The depth of recursion is in turn dependent on the height of the binary search tree.\n",
    "\n",
    "Given $N$ nodes, the height of a binary search tree is, in the worst case = $O(N)$\n",
    "\n",
    "This gives us the following worst-case runtime complexities:\n",
    "\n",
    "- Search = $O(N)$\n",
    "- Insert = $O(N)$\n",
    "- Delete = $O(N)$\n",
    "\n",
    "How can we improve this runtime complexity? What should be our target runtime complexity?"
   ]
  }
 ],
 "metadata": {
  "kernelspec": {
   "display_name": "Python 3 (ipykernel)",
   "language": "python",
   "name": "python3"
  },
  "language_info": {
   "codemirror_mode": {
    "name": "ipython",
    "version": 3
   },
   "file_extension": ".py",
   "mimetype": "text/x-python",
   "name": "python",
   "nbconvert_exporter": "python",
   "pygments_lexer": "ipython3",
   "version": "3.12.3"
  },
  "mimir": {
   "data": {},
   "last_submission_id": "",
   "project_id": "70342fc0-6851-4ef5-89fd-5f50ede58dc2"
  },
  "varInspector": {
   "cols": {
    "lenName": 16,
    "lenType": 16,
    "lenVar": 40
   },
   "kernels_config": {
    "python": {
     "delete_cmd_postfix": "",
     "delete_cmd_prefix": "del ",
     "library": "var_list.py",
     "varRefreshCmd": "print(var_dic_list())"
    },
    "r": {
     "delete_cmd_postfix": ") ",
     "delete_cmd_prefix": "rm(",
     "library": "var_list.r",
     "varRefreshCmd": "cat(var_dic_list()) "
    }
   },
   "types_to_exclude": [
    "module",
    "function",
    "builtin_function_or_method",
    "instance",
    "_Feature"
   ],
   "window_display": false
  }
 },
 "nbformat": 4,
 "nbformat_minor": 4
}
