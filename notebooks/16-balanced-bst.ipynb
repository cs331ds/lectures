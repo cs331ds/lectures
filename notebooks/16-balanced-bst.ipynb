{
 "cells": [
  {
   "cell_type": "markdown",
   "metadata": {
    "state": "normal"
   },
   "source": [
    "# Balanced BSTs\n",
    "\n",
    "## Agenda\n",
    "\n",
    "1. Motivation\n",
    "2. Defining \"balance\"\n",
    "3. AVL trees\n",
    "5. Other balanced trees"
   ]
  },
  {
   "cell_type": "markdown",
   "metadata": {
    "state": "normal"
   },
   "source": [
    "## 1. Motivation"
   ]
  },
  {
   "cell_type": "code",
   "execution_count": null,
   "metadata": {
    "state": "normal"
   },
   "outputs": [],
   "source": [
    "class BSTree:\n",
    "    class Node:\n",
    "        def __init__(self, val, left=None, right=None):\n",
    "            self.val = val\n",
    "            self.left = left\n",
    "            self.right = right\n",
    "            \n",
    "    def __init__(self):\n",
    "        self.size = 0\n",
    "        self.root = None\n",
    "    \n",
    "    def insert(self, val):\n",
    "        assert val not in self\n",
    "        def insert_rec(node):\n",
    "            if not node:\n",
    "                return BSTree.Node(val)\n",
    "            elif val < node.val:\n",
    "                node.left = insert_rec(node.left)\n",
    "            else:\n",
    "                node.right = insert_rec(node.right)\n",
    "            return node\n",
    "        self.root = insert_rec(self.root)\n",
    "        self.size += 1\n",
    "\n",
    "    def __contains__(self, val):\n",
    "        def contains_rec(node):\n",
    "            if not node:\n",
    "                return False\n",
    "            elif val == node.val:\n",
    "                return True\n",
    "            elif val < node.val:\n",
    "                return contains_rec(node.left)\n",
    "            else:\n",
    "                return contains_rec(node.right)\n",
    "        return contains_rec(self.root)        \n",
    "                        \n",
    "    def pprint(self, width=64):\n",
    "        height = self.height()\n",
    "        nodes  = [(self.root, 0)]\n",
    "        prev_level = 0\n",
    "        repr_str = ''\n",
    "        while nodes:\n",
    "            n,level = nodes.pop(0)\n",
    "            if prev_level != level:\n",
    "                prev_level = level\n",
    "                repr_str += '\\n'\n",
    "            if not n:\n",
    "                if level < height-1:\n",
    "                    nodes.extend([(None, level+1), (None, level+1)])\n",
    "                repr_str += '{val:^{width}}'.format(val='-', width=width//2**level)\n",
    "            elif n:\n",
    "                if n.left or level < height-1:\n",
    "                    nodes.append((n.left, level+1))\n",
    "                if n.right or level < height-1:\n",
    "                    nodes.append((n.right, level+1))\n",
    "                repr_str += '{val:^{width}}'.format(val=n.val, width=width//2**level)\n",
    "        print(repr_str)\n",
    "    \n",
    "    def height(self):\n",
    "        def height_rec(t):\n",
    "            if not t:\n",
    "                return 0\n",
    "            else:\n",
    "                return max(1+height_rec(t.left), 1+height_rec(t.right))\n",
    "        return height_rec(self.root)"
   ]
  },
  {
   "cell_type": "code",
   "execution_count": null,
   "metadata": {},
   "outputs": [],
   "source": [
    "\n",
    "t = BSTree()\n",
    "for x in range(6):\n",
    "    t.insert(x)\n",
    "t.pprint()"
   ]
  },
  {
   "cell_type": "markdown",
   "metadata": {},
   "source": [
    "If a binary search tree is not balanced, it may degrade to a linked list! This results in $O(n)$ time complexity for all operations."
   ]
  },
  {
   "cell_type": "markdown",
   "metadata": {
    "state": "normal"
   },
   "source": [
    "## 2. Defining \"balance\""
   ]
  },
  {
   "cell_type": "markdown",
   "metadata": {
    "state": "normal"
   },
   "source": [
    "There are different criteria we can use to decide whether a binary tree is \"balanced\", e.g., \n",
    "\n",
    "- the *number* of nodes on either side of a given node\n",
    "- the *height* of the subtrees on either side of a given node\n",
    "- the *density* of nodes on either side of a given node\n",
    "- the *shape* of the subtrees on either side of a given node (perhaps we only want to permit full or complete trees).\n",
    "\n",
    "What are the pros and cons of some of these criteria?"
   ]
  },
  {
   "cell_type": "markdown",
   "metadata": {},
   "source": [
    "### 2.1. Balance factor\n",
    "\n",
    "*def.* in a height-balanced tree, the *balance factor* of a node is the height of its right subtree minus the height of its left subtree."
   ]
  },
  {
   "cell_type": "markdown",
   "metadata": {},
   "source": [
    "![](../images/16-bf-quiz.png)"
   ]
  },
  {
   "cell_type": "markdown",
   "metadata": {},
   "source": [
    "To efficiently compute balance factors, we need to quickly access the height of each node in the tree. We can't afford to recompute the height of a subtree every time we need it!"
   ]
  },
  {
   "cell_type": "code",
   "execution_count": null,
   "metadata": {},
   "outputs": [],
   "source": [
    "# Update the BSTree class so that:\n",
    "# - the node class has a height attribute\n",
    "# - the height of a node is updated during the `insert` operation\n",
    "#   (do this without recalculating the height of sub-trees)\n",
    "\n",
    "class BSTree(BSTree):\n",
    "    class Node:\n",
    "        def __init__(self, val, left=None, right=None):\n",
    "            self.val = val\n",
    "            self.left = left\n",
    "            self.right = right\n",
    "            self.height = 1\n",
    "\n",
    "    @staticmethod\n",
    "    def update_height(n: Node):\n",
    "        n.height = 1 + max(n.left.height if n.left else 0,\n",
    "                           n.right.height if n.right else 0)\n",
    "            \n",
    "    def insert(self, val):\n",
    "        assert val not in self\n",
    "        def insert_rec(node):\n",
    "            if not node:\n",
    "                return BSTree.Node(val)\n",
    "            elif val < node.val:\n",
    "                node.left = insert_rec(node.left)\n",
    "                self.update_height(node)\n",
    "            else:\n",
    "                node.right = insert_rec(node.right)\n",
    "                self.update_height(node)\n",
    "            return node\n",
    "        self.root = insert_rec(self.root)\n",
    "        self.size += 1\n",
    "\n",
    "    # updated pprint shows balance factors calculated from node heights\n",
    "    def pprint(self, width=64):\n",
    "        height = self.root.height if self.root else 0\n",
    "        nodes  = [(self.root, 0)]\n",
    "        prev_level = 0\n",
    "        repr_str = ''\n",
    "        while nodes:\n",
    "            n,level = nodes.pop(0)\n",
    "            if prev_level != level:\n",
    "                prev_level = level\n",
    "                repr_str += '\\n'\n",
    "            if not n:\n",
    "                if level < height-1:\n",
    "                    nodes.extend([(None, level+1), (None, level+1)])\n",
    "                repr_str += f'{\"-\":^{width//2**level}}'\n",
    "            elif n:\n",
    "                if n.left or level < height-1:\n",
    "                    nodes.append((n.left, level+1))\n",
    "                if n.right or level < height-1:\n",
    "                    nodes.append((n.right, level+1))\n",
    "                bf = ((n.right.height if n.right else 0) \n",
    "                      - (n.left.height if n.left else 0))\n",
    "                repr_str += f'{f\"{n.val}[{bf}]\":^{width//2**level}}'\n",
    "        print(repr_str)"
   ]
  },
  {
   "cell_type": "code",
   "execution_count": null,
   "metadata": {},
   "outputs": [],
   "source": [
    "import random\n",
    "vals = list(range(10))\n",
    "random.shuffle(vals)\n",
    "\n",
    "t = BSTree()\n",
    "for x in vals:\n",
    "    t.insert(x)\n",
    "t.pprint()"
   ]
  },
  {
   "cell_type": "markdown",
   "metadata": {},
   "source": [
    "## 3. AVL (Adelson-Velsky and Landis) trees\n",
    "\n",
    "*def.* an AVL tree is a height-balanced binary search tree where the balance factor is either -1, 0, or 1 for every node. We call this the *AVL property*.\n",
    "\n",
    "An AVL tree is *self-balancing*. I.e., whenever the AVL property may be violated by an insertion/deletion, we must fix the tree before returning from the operation.\n",
    "\n",
    "When may the AVL property be violated by insertions/deletions?\n",
    "\n",
    "![](../images/16-avl-violations.png)\n",
    "\n",
    "How can we fix these violations when they occur?"
   ]
  },
  {
   "cell_type": "markdown",
   "metadata": {
    "state": "normal"
   },
   "source": [
    "### 3.1. Essential operation: \"rotation\""
   ]
  },
  {
   "cell_type": "markdown",
   "metadata": {},
   "source": [
    "When the balance factor of a binary search tree node is $< -1$ (left-heavy) or $> 1$ (right heavy), we need an operation to redistribute the nodes in the tree to restore balance.\n",
    "\n",
    "The operation needs to:\n",
    "1. maintain the binary search tree property\n",
    "2. predictably change the heights & balance factors of the nodes involved\n",
    "\n",
    "The solution is a symmetric pair of operations called \"rotations\"."
   ]
  },
  {
   "cell_type": "markdown",
   "metadata": {},
   "source": [
    "![](../images/16-rotations.png)"
   ]
  },
  {
   "cell_type": "code",
   "execution_count": null,
   "metadata": {},
   "outputs": [],
   "source": [
    "# Implement in-place right rotation for the AVL tree node\n",
    "# - be sure to update the heights of the nodes after rotation!\n",
    "\n",
    "class AVLTree(BSTree):\n",
    "    class Node:\n",
    "        def __init__(self, val, left=None, right=None):\n",
    "            self.val = val\n",
    "            self.left = left\n",
    "            self.right = right\n",
    "            self.height = 1\n",
    "\n",
    "        def rotate_right(self):\n",
    "            p = self\n",
    "            c = self.left\n",
    "            p.val, c.val = c.val, p.val\n",
    "            p.left, p.right, c.left, c.right = c.left, c, c.right, p.right\n",
    "            # update heights\n",
    "            AVLTree.update_height(c)\n",
    "            AVLTree.update_height(p)\n",
    "    \n",
    "    def insert(self, val):\n",
    "        assert val not in self\n",
    "        def insert_rec(node):\n",
    "            if not node:\n",
    "                return AVLTree.Node(val)\n",
    "            elif val < node.val:\n",
    "                node.left = insert_rec(node.left)\n",
    "                self.update_height(node)\n",
    "            else:\n",
    "                node.right = insert_rec(node.right)\n",
    "                self.update_height(node)\n",
    "            return node\n",
    "        self.root = insert_rec(self.root)\n",
    "        self.size += 1"
   ]
  },
  {
   "cell_type": "code",
   "execution_count": null,
   "metadata": {
    "state": "normal"
   },
   "outputs": [],
   "source": [
    "t = AVLTree()\n",
    "for x in range(6, 0, -1):\n",
    "    t.insert(x)\n",
    "t.pprint()"
   ]
  },
  {
   "cell_type": "code",
   "execution_count": null,
   "metadata": {
    "state": "normal"
   },
   "outputs": [],
   "source": [
    "t.root.rotate_right()\n",
    "t.pprint()"
   ]
  },
  {
   "cell_type": "code",
   "execution_count": null,
   "metadata": {
    "state": "normal"
   },
   "outputs": [],
   "source": [
    "t.root.rotate_right()\n",
    "t.pprint()"
   ]
  },
  {
   "cell_type": "code",
   "execution_count": null,
   "metadata": {
    "state": "normal"
   },
   "outputs": [],
   "source": [
    "t.root.left.rotate_right()\n",
    "t.pprint()"
   ]
  },
  {
   "cell_type": "markdown",
   "metadata": {},
   "source": [
    "Note that rotations do not *always* alter the height or balance factor of nodes in useful ways! \n",
    "\n",
    "![](../images/16-right-rotations.png)"
   ]
  },
  {
   "cell_type": "markdown",
   "metadata": {
    "state": "normal"
   },
   "source": [
    "### 3.2. \"Out-of-balance\" scenarios & rotation recipes\n",
    "\n",
    "There are a finite number of ways a node can be out of balance. For each of these scenarios, there is a corresponding \"recipe\" that will restore balance. Convince yourself that these recipes work!"
   ]
  },
  {
   "cell_type": "markdown",
   "metadata": {},
   "source": [
    "![](../images/16-rotation-recipes.png)"
   ]
  },
  {
   "cell_type": "markdown",
   "metadata": {
    "state": "normal"
   },
   "source": [
    "### 3.3. Insertion & Rebalancing"
   ]
  },
  {
   "cell_type": "markdown",
   "metadata": {},
   "source": [
    "AVL tree insertion may cause an imbalance that requires precisely **one application of a rotation recipe** (i.e., 1-2 rotations) to fix."
   ]
  },
  {
   "cell_type": "code",
   "execution_count": null,
   "metadata": {
    "state": "normal"
   },
   "outputs": [],
   "source": [
    "# Implement `rebalance` to deal with the \"LL\" case\n",
    "\n",
    "class AVLTree(AVLTree):\n",
    "    @staticmethod\n",
    "    def balance_factor(node):\n",
    "        lh = node.left.height if node.left else 0\n",
    "        rh = node.right.height if node.right else 0\n",
    "        return rh - lh\n",
    "\n",
    "    @staticmethod\n",
    "    def rebalance(node):\n",
    "        bf = AVLTree.balance_factor(node)\n",
    "        if abs(bf) < 2:\n",
    "            return\n",
    "        if bf == -2:\n",
    "            if AVLTree.balance_factor(node.left) == -1:\n",
    "                node.rotate_right()\n",
    "            \n",
    "    def insert(self, val):\n",
    "        assert val not in self\n",
    "        def insert_rec(node):\n",
    "            if not node:\n",
    "                return AVLTree.Node(val)\n",
    "            elif val < node.val:\n",
    "                node.left = insert_rec(node.left)\n",
    "                self.update_height(node)\n",
    "            else:\n",
    "                node.right = insert_rec(node.right)\n",
    "                self.update_height(node)\n",
    "\n",
    "            # potentially rebalance\n",
    "            self.rebalance(node)\n",
    "            return node\n",
    "        self.root = insert_rec(self.root)\n",
    "        self.size += 1"
   ]
  },
  {
   "cell_type": "code",
   "execution_count": null,
   "metadata": {},
   "outputs": [],
   "source": [
    "val = 50\n",
    "t = AVLTree()"
   ]
  },
  {
   "cell_type": "code",
   "execution_count": null,
   "metadata": {},
   "outputs": [],
   "source": [
    "# (evaluate multiple times with ctrl-enter)\n",
    "t.insert(val)\n",
    "val -= 1\n",
    "t.pprint()"
   ]
  },
  {
   "cell_type": "markdown",
   "metadata": {
    "state": "normal"
   },
   "source": [
    "### 3.4. Deletion and Rebalancing"
   ]
  },
  {
   "cell_type": "markdown",
   "metadata": {},
   "source": [
    "Deletions, unlike insertions, may cause an imbalance that requires **multiple applications of a rotation recipe** to fix! These imbalances, if they exist, will be found in ancestors of the deleted node."
   ]
  },
  {
   "cell_type": "markdown",
   "metadata": {},
   "source": [
    "![](../images/16-deletions.png)"
   ]
  },
  {
   "cell_type": "markdown",
   "metadata": {},
   "source": [
    "### 3.5. AVL tree analysis\n",
    "\n",
    "Central to the runtime complexity of AVL tree operations is the height of the tree $h$ in terms of the number of nodes $n$ in the tree.\n",
    "\n",
    "Let us define $M(h)$ to be the *minimum number of nodes* in an AVL tree of height $h$. You can think of this as the most *sparsely-populated*, or *worst-case* AVL tree of height $h$.\n",
    "\n",
    "It should be clear that $M(1) = 1$ and $M(2) = 2$. (Draw these trees!)\n",
    "\n",
    "An AVL tree of height $=3$ with minimal nodes has one root node and subtrees of height $M(1)$ and $M(2)$, so $M(3) = 1 + M(1) + M(2)$.\n",
    "\n",
    "Generally, we can say that $M(h) = 1 + M(h-1) + M(h-2)$. Can you see why?\n",
    "\n",
    "Given this recursive formula, we can derive an upper bound on $h$ thusly:\n",
    "\n",
    "$$\n",
    "\\begin{align*}\n",
    "M(h) &= 1 + M(h-1) + M(h-2) \\\\\n",
    "M(h-1) &= 1 + M(h-2) + M(h-3) \\\\\n",
    "M(h) &= 1 + (1 + M(h-2) + M(h-3)) + M(h-2) & \\text{by substitution}\\\\\n",
    "&= 2 + 2M(h-2) + M(h-3) \\\\\n",
    "M(h) &> 2M(h-2) \\\\\n",
    "& > 4M(h-4) \\\\\n",
    "& > 8M(h-6) \\\\\n",
    "& > \\ldots \\\\\n",
    "& > 2^kM(h-2k) \\\\\n",
    "& > 2^{\\frac{h-1}{2}}M(1) & \\text{letting $k = \\frac{h-1}{2}$} \\\\\n",
    "& > 2^{\\frac{h-1}{2}} & \\text{since $M(1) = 1$} \\\\\n",
    "\\log_2 M(h) &> \\frac{h-1}{2} \\\\\n",
    "h &< 2\\log_2 M(h) + 1 \\\\\n",
    "h &= O(\\log M(h))\n",
    "\\end{align*}\n",
    "$$\n",
    "\n",
    "Since $M(h)$ is the minimum number of nodes in an AVL tree of height $h$, if $N$ is the number of nodes in *any AVL tree of height* $h$, $N \\geq M(h)$, and therefore:\n",
    "\n",
    "$$\n",
    "h = O(\\log N)\n",
    "$$\n",
    "\n",
    "This is a key conclusion! It means that *all operations* that have runtime proportional to the height of the AVL tree have runtime $= O(\\log n)$."
   ]
  },
  {
   "cell_type": "markdown",
   "metadata": {},
   "source": [
    "## 4. Other optimized tree structures"
   ]
  },
  {
   "cell_type": "markdown",
   "metadata": {},
   "source": [
    "AVL trees are not the only type of optimized tree data structure. Other examples include:\n",
    "\n",
    "- Red-black trees\n",
    "- Splay trees\n",
    "- B-trees\n",
    "\n",
    "**Red-black trees** are considered balanced so long as *the longest path from the root to a given leaf is no more than twice as long as the shortest path*. This is a weaker criterion than the AVL property, but it is cheaper to maintain and still guarantees $O(\\log N)$ height for $N$ nodes.\n",
    "\n",
    "**Splay trees** don't guarantee a specific height, but they continually reorganize the tree to ensure that the most frequently accessed nodes are closer to the root. This improves the *average-case* runtime complexity of operations on the tree.\n",
    "\n",
    "**B-trees** are optimized for disk storage, where the cost of reading from disk is much higher than the cost of reading from memory. They are designed to minimize the number of disk reads required to find a node in the tree. Instead of using a binary tree structure, B-trees are *multiway trees*, where each node can have many children."
   ]
  }
 ],
 "metadata": {
  "kernelspec": {
   "display_name": "Python 3",
   "language": "python",
   "name": "python3"
  },
  "language_info": {
   "codemirror_mode": {
    "name": "ipython",
    "version": 3
   },
   "file_extension": ".py",
   "mimetype": "text/x-python",
   "name": "python",
   "nbconvert_exporter": "python",
   "pygments_lexer": "ipython3",
   "version": "3.12.3"
  },
  "mimir": {
   "data": {},
   "last_submission_id": "",
   "project_id": "d81a2e7d-ae5f-47f8-9e72-00d988a83b2e"
  },
  "varInspector": {
   "cols": {
    "lenName": 16,
    "lenType": 16,
    "lenVar": 40
   },
   "kernels_config": {
    "python": {
     "delete_cmd_postfix": "",
     "delete_cmd_prefix": "del ",
     "library": "var_list.py",
     "varRefreshCmd": "print(var_dic_list())"
    },
    "r": {
     "delete_cmd_postfix": ") ",
     "delete_cmd_prefix": "rm(",
     "library": "var_list.r",
     "varRefreshCmd": "cat(var_dic_list()) "
    }
   },
   "types_to_exclude": [
    "module",
    "function",
    "builtin_function_or_method",
    "instance",
    "_Feature"
   ],
   "window_display": false
  }
 },
 "nbformat": 4,
 "nbformat_minor": 4
}
